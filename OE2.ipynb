{
 "cells": [
  {
   "cell_type": "code",
   "execution_count": 4,
   "metadata": {},
   "outputs": [],
   "source": [
    "# Paolo S.\n",
    "# CS3-1 | OE2\n",
    "\n",
    "import pygame\n",
    "pygame.init()\n",
    "\n",
    "game_win = pygame.display.set_mode((800,600))\n",
    "pygame.display.set_caption(\"First Game\")\n",
    "\n",
    "pygame\n",
    "#set the row, col\n",
    "# BOX1\n",
    "x = 700\n",
    "y = 500\n",
    "width = 40\n",
    "height = 40\n",
    "speed = 5\n",
    "\n",
    "# BOX2\n",
    "x2 = 50\n",
    "y2 = 50\n",
    "width2 = 40\n",
    "height2 = 40\n",
    "speed2 = 5\n",
    "\n",
    "run = True\n",
    "\n",
    "while run:\n",
    "    pygame.time.delay(100) #delay the game movement in ms\n",
    "    \n",
    "    for event in pygame.event.get(): #loop through a list of any key or mouse event\n",
    "        if event.type == pygame.QUIT:\n",
    "            run = False #END THE GAME LOOP\n",
    "    keys = pygame.key.get_pressed() #list of key to use\n",
    "\n",
    "#Red Box     \n",
    "    #to check which key is pressed\n",
    "    if keys[pygame.K_LEFT]:\n",
    "        x -= speed\n",
    "    if keys[pygame.K_RIGHT]:\n",
    "        x += speed\n",
    "    if keys[pygame.K_UP]:\n",
    "        y -= speed\n",
    "    if keys[pygame.K_DOWN]:\n",
    "        y += speed\n",
    "        \n",
    "#Yellow Box  \n",
    "    if keys[pygame.K_a]:\n",
    "        x2 -= speed\n",
    "    if keys[pygame.K_d]:\n",
    "        x2 += speed\n",
    "    if keys[pygame.K_w]:\n",
    "        y2 -= speed\n",
    "    if keys[pygame.K_s]:\n",
    "        y2 += speed\n",
    "            \n",
    "    game_win.fill((0,0,0)) #fill with black\n",
    "    box1 = pygame.draw.rect(game_win, (255,0,0), (x,y,width,height)) #window surface color and rectangle\n",
    "    pygame.display.update() #enable to update the screen to the object/rect\n",
    "         \n",
    "    box2 = pygame.draw.rect(game_win, (255,255,0), (x2,y2,width2,height2)) #window surface color and rectangle\n",
    "    pygame.display.update() #enable to update the screen to the object/rect  \n",
    "    \n",
    "    pygame.time.delay(100) #delay the game movement in ms  \n",
    "    \n",
    "pygame.quit()"
   ]
  }
 ],
 "metadata": {
  "kernelspec": {
   "display_name": "Python 3.9.12 ('base')",
   "language": "python",
   "name": "python3"
  },
  "language_info": {
   "codemirror_mode": {
    "name": "ipython",
    "version": 3
   },
   "file_extension": ".py",
   "mimetype": "text/x-python",
   "name": "python",
   "nbconvert_exporter": "python",
   "pygments_lexer": "ipython3",
   "version": "3.9.12"
  },
  "orig_nbformat": 4,
  "vscode": {
   "interpreter": {
    "hash": "e6b9563c2d5f39a0f14e96863a92c28173db3617b8e00a6322a2465c297cc121"
   }
  }
 },
 "nbformat": 4,
 "nbformat_minor": 2
}
